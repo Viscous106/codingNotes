{
 "cells": [
  {
   "cell_type": "markdown",
   "id": "3b848a55",
   "metadata": {},
   "source": [
    "\n",
    "\n",
    "How to use ipynb in nvim:\n",
    " 1. Open a Python file (e.g., my_script.py).\n",
    "   2. Initialize the Jupyter kernel by pressing <space>mi. You should see a confirmation that the \n",
    "      kernel has started.\n",
    "   3. Define cells in your Python script using #%% as a separator:\n",
    "\n",
    "    1     #%%\n",
    "    2     print(\"Hello from cell 1\")\n",
    "    3 \n",
    "    4     #%%\n",
    "    5     import matplotlib.pyplot as plt\n",
    "    6     import numpy as np\n",
    "    7 \n",
    "    8     x = np.linspace(0, 2 * np.pi, 400)\n",
    "    9     y = np.sin(x**2)\n",
    "   10 \n",
    "   11     plt.plot(x, y)\n",
    "   12     plt.title(\"A simple plot\")\n",
    "   13     plt.show()\n",
    "\n",
    "   4. Execute code:\n",
    "       * Move your cursor into a cell and press <localleader>x to execute it. The output will \n",
    "         appear in a split window.\n",
    "       * To execute the entire script, press <localleader>X.\n",
    "\n",
    "   5. Manage cells:\n",
    "       * <localleader>a: Create a new cell above the current one.\n",
    "       * <localleader>b: Create a new cell below the current one.\n",
    "       * dd (in normal mode on the #%% line): Delete a cell.\n",
    "\n",
    "   6. View images: If your code generates plots (like the example above), they will be displayed \n",
    "      automatically in a separate window.\n",
    "\n",
    "   7. Shut down the kernel: Use the :MoltenDeinit command.\n",
    "\n",
    "  For more advanced usage, you can refer to the molten-nvim documentation."
   ]
  }
 ],
 "metadata": {
  "language_info": {
   "name": "python"
  }
 },
 "nbformat": 4,
 "nbformat_minor": 5
}
