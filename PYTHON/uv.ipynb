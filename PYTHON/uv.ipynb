{
 "cells": [
  {
   "cell_type": "markdown",
   "id": "4c2d29cd",
   "metadata": {},
   "source": [
    "# Replace python with uv. This automatically installs Python and dependencies.\n",
    "uv run script.py\n",
    "\n",
    "# Run a Python script directly from the Internet\n",
    "uv run https://example.com/script.py\n",
    "\n",
    "# Run a Python script without installing\n",
    "uvx ruff\n",
    "\n",
    "# Use a specific Python version\n",
    "uv run --python 3.11 script.py\n",
    "\n",
    "# Add dependencies to your script\n",
    "uv add httpx --script script.py\n",
    "\n",
    "# Create a virtual environment at .venv\n",
    "uv venv\n",
    "\n",
    "# Install packages to your virtual environment\n",
    "uv pip install httpx"
   ]
  },
  {
   "cell_type": "markdown",
   "id": "a548ab32",
   "metadata": {},
   "source": [
    "uvx --from jupyterlab jupyter-lab   # Jupyter notebook\n",
    "uvx marimo      # Interactive notebook\n",
    "uvx llm         # Chat with LLMs from the command line\n",
    "uvx openwebui   # Chat with LLMs via the browser\n",
    "uvx httpie      # Make HTTP requests\n",
    "uvx datasette   # Browse SQLite databases\n",
    "uvx markitdown  # Convert PDF to Markdown\n",
    "uvx yt-dlp      # Download YouTube videos\n",
    "uvx asciinema   # Record your terminal and play it\n"
   ]
  },
  {
   "cell_type": "markdown",
   "id": "ed43e579",
   "metadata": {},
   "source": [
    "https://youtu.be/igWlYl3asKw?t=1240"
   ]
  }
 ],
 "metadata": {
  "language_info": {
   "name": "python"
  }
 },
 "nbformat": 4,
 "nbformat_minor": 5
}
