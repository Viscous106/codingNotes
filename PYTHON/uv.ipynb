{
 "cells": [
  {
   "cell_type": "markdown",
   "id": "cc64a72f",
   "metadata": {},
   "source": [
    "🟢 Environment Management\n",
    "uv venv .venv          # create a virtual environment\n",
    "uv venv --python 3.11  # create env with specific Python version\n",
    "uv run python          # run python in that env\n",
    "uv run script.py       # run a script with env + deps resolved\n",
    "\n",
    "🟢 Package Management (pip-like)\n",
    "uv pip install requests      # install package\n",
    "uv pip install -r req.txt    # install from requirements file\n",
    "uv pip uninstall requests    # remove package\n",
    "uv pip list                  # show installed packages\n",
    "uv pip freeze > req.txt      # export exact versions (like pip freeze)\n",
    "\n",
    "🟢 Dependency Resolution\n",
    "uv add numpy pandas          # install & save to project (like poetry add)\n",
    "uv remove numpy              # remove a package\n",
    "uv update numpy              # update a specific package\n",
    "uv update --all              # update everything\n",
    "\n",
    "🟢 Project Setup\n",
    "uv init                      # start a new project (like poetry init)\n",
    "uv lock                      # generate lockfile with pinned deps\n",
    "uv sync                      # install everything from lockfile\n",
    "\n",
    "🟢 Info & Debugging\n",
    "uv --version                 # check uv version\n",
    "uv help                      # see all commands\n",
    "uv cache list                # see cached wheels/tarballs\n",
    "uv cache clean               # clear cache if needed"
   ]
  }
 ],
 "metadata": {
  "language_info": {
   "name": "python"
  }
 },
 "nbformat": 4,
 "nbformat_minor": 5
}
