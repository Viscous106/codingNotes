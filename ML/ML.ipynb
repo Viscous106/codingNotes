{
 "cells": [
  {
   "cell_type": "markdown",
   "id": "18fdaf57",
   "metadata": {},
   "source": [
    ":::MLT:::"
   ]
  },
  {
   "cell_type": "markdown",
   "id": "4ba12096",
   "metadata": {},
   "source": [
    "::Representation Learning::\n",
    "For Using matrics in ML suppose we have 2n matrix [a,b] now to make the data less we use a relation between all the n uppr data like [1,x] matix multiply to produce a new n lenght upr element set. not all mat are mutiple  of x so for  to avoid that other points proxy or  the foot of perpendicular is used to represent  it..\n",
    "\n",
    "::How to find a line with least distance or errors in proxies::\n",
    "<br>\n",
    "To find the minimum distance line from a point:\n",
    "<img src=\"https://github.com/Viscous106/codingNotes/blob/main/docs/ML/Representative%20learning%201.png?raw=true\" >\n",
    "<br>\n",
    "To find the sumation of many min diatance to find a proxy line:\n",
    "<img src=\"https://github.com/Viscous106/codingNotes/blob/main/docs/ML/Representative%20learning%202.png?raw=true\">\n",
    "\n",
    "See in real world requirements data is not at origin so basically we have to center the data and use that as a origin...\n",
    "\n",
    "<img src=\"https://github.com/Viscous106/codingNotes/blob/main/docs/ML/RL3.png?raw=true\">\n"
   ]
  },
  {
   "cell_type": "markdown",
   "id": "f76e4f6d",
   "metadata": {},
   "source": [
    "::Principal component analysis::\n"
   ]
  }
 ],
 "metadata": {
  "kernelspec": {
   "display_name": "3.10.12",
   "language": "python",
   "name": "python3"
  },
  "language_info": {
   "codemirror_mode": {
    "name": "ipython",
    "version": 3
   },
   "file_extension": ".py",
   "mimetype": "text/x-python",
   "name": "python",
   "nbconvert_exporter": "python",
   "pygments_lexer": "ipython3",
   "version": "3.10.12"
  }
 },
 "nbformat": 4,
 "nbformat_minor": 5
}
