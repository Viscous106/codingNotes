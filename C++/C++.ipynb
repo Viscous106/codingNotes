{
 "cells": [
  {
   "cell_type": "markdown",
   "metadata": {},
   "source": [
    "1.Boiler Plate:"
   ]
  },
  {
   "cell_type": "code",
   "execution_count": null,
   "metadata": {},
   "outputs": [],
   "source": [
    "#include <iostream>\n",
    "#include <cmath>\n",
    "using namespace std;\n",
    "int main() {\n",
    "    //Single line Comment \n",
    "    /*Multi line comment*/\n",
    "    return 0;\n",
    "}\n"
   ]
  },
  {
   "cell_type": "markdown",
   "metadata": {},
   "source": [
    "2.Print Statement:"
   ]
  },
  {
   "cell_type": "code",
   "execution_count": null,
   "metadata": {},
   "outputs": [],
   "source": [
    "#include <iostream>\n",
    "#include <cmath>\n",
    "using namespace std;\n",
    "int main() {\n",
    "    cout << \"Hello Arch!\" << \"\";\n",
    "    cout << 45 <<\"\";\n",
    "    return 0;\n",
    "}        "
   ]
  },
  {
   "cell_type": "markdown",
   "metadata": {},
   "source": [
    "3.Variable"
   ]
  },
  {
   "cell_type": "code",
   "execution_count": null,
   "metadata": {},
   "outputs": [],
   "source": [
    "#include <iostream>\n",
    "#include <cmath>\n",
    "using namespace std;\n",
    "int main() {\n",
    "    int a = 5;//int - stores integers (whole numbers), without decimals, such as 123 or -123\n",
    "    float myFloatNum = 5.99;     // Floating point number\n",
    "    double b = 57.8;//double - stores floating point numbers, with decimals, such as 19.99 or -19.99\n",
    "    char c = 'g';//char - stores single characters, such as 'a' or 'B'. Char values are surrounded by single quotes\n",
    "    string d = \"Arch\";//string - stores text, such as \"Hello World\". String values are surrounded by double quotes\n",
    "    bool e=true;//bool - stores values with two states: true or false\n",
    "    const int f=8;//const - can't change value\n",
    "    cout << \"I am using \" << d <<\"\";\n",
    "    auto x = \"Something\"; //Auto detects the data type \n",
    "    return 0;\n",
    "}\n"
   ]
  }
 ],
 "metadata": {
  "kernelspec": {
   "display_name": "3.10.12",
   "language": "python",
   "name": "python3"
  },
  "language_info": {
   "codemirror_mode": {
    "name": "ipython",
    "version": 3
   },
   "file_extension": ".py",
   "mimetype": "text/x-python",
   "name": "python",
   "nbconvert_exporter": "python",
   "pygments_lexer": "ipython3",
   "version": "3.10.12"
  }
 },
 "nbformat": 4,
 "nbformat_minor": 4
}
