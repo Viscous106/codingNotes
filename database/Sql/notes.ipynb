{
 "cells": [
  {
   "cell_type": "markdown",
   "id": "10d59ce0",
   "metadata": {},
   "source": [
    "1.How  to create a table:"
   ]
  },
  {
   "cell_type": "code",
   "execution_count": null,
   "id": "58f301d5",
   "metadata": {
    "vscode": {
     "languageId": "sql"
    }
   },
   "outputs": [],
   "source": [
    "CREATE TABLE users(\n",
    "    id INTEGER PRIMARY KEY,\n",
    "    name TEXT NOT NULL,\n",
    "    username TEXT NOT NULL UNIQUE,\n",
    "    email TEXT,\n",
    "    age INTEGER,\n",
    "    created_at DATETIME DEFAULT CURRENT_TIMESTAMP\n",
    ");"
   ]
  },
  {
   "cell_type": "markdown",
   "id": "6fc5d619",
   "metadata": {},
   "source": [
    "2.HOW TO ADD COLOMN name \"status\"   "
   ]
  },
  {
   "cell_type": "code",
   "execution_count": null,
   "id": "edef29ec",
   "metadata": {
    "vscode": {
     "languageId": "sql"
    }
   },
   "outputs": [],
   "source": [
    "ALTER TABLE users ADD COLUMN status TEXT;"
   ]
  },
  {
   "cell_type": "markdown",
   "id": "82d7b0d2",
   "metadata": {},
   "source": [
    "3.DELETE TABLE users"
   ]
  },
  {
   "cell_type": "code",
   "execution_count": null,
   "id": "1274d7b0",
   "metadata": {
    "vscode": {
     "languageId": "sql"
    }
   },
   "outputs": [],
   "source": [
    "DROP TABLE users;"
   ]
  },
  {
   "cell_type": "markdown",
   "id": "9632688b",
   "metadata": {},
   "source": [
    "4.INSERT DATA INTO A TABLE"
   ]
  },
  {
   "cell_type": "code",
   "execution_count": null,
   "id": "64555ba5",
   "metadata": {
    "vscode": {
     "languageId": "sql"
    }
   },
   "outputs": [],
   "source": [
    "SELECT * FROM users;\n",
    "INSERT INTO users (name,username)\n",
    "VALUES ('Rajnish', 'bkl_rajnish'),('John Doe', 'jdoe');"
   ]
  },
  {
   "cell_type": "markdown",
   "id": "1b2bdad8",
   "metadata": {},
   "source": [
    "5. To select a Certaing id:"
   ]
  },
  {
   "cell_type": "code",
   "execution_count": null,
   "id": "45bb8544",
   "metadata": {
    "vscode": {
     "languageId": "sql"
    }
   },
   "outputs": [],
   "source": [
    "SELECT * FROM users\n",
    "WHERE username = 'bkl_rajnish'OR username ='jdoe';"
   ]
  },
  {
   "cell_type": "markdown",
   "id": "f2bb90db",
   "metadata": {},
   "source": [
    "6.Add id and add data:"
   ]
  },
  {
   "cell_type": "code",
   "execution_count": null,
   "id": "212b1ff2",
   "metadata": {
    "vscode": {
     "languageId": "sql"
    }
   },
   "outputs": [],
   "source": [
    "UPDATE users SET email = 'rajnish@sst.scaler.com' WHERE username = 'bkl_rajnish' AND email ='Johndoe@sst.scaler.com' AND username = 'jdoe';\n",
    "SELECT * FROM users"
   ]
  },
  {
   "cell_type": "markdown",
   "id": "70b394af",
   "metadata": {},
   "source": [
    "7.FOReign Keys"
   ]
  },
  {
   "cell_type": "code",
   "execution_count": null,
   "id": "2a3817ed",
   "metadata": {
    "vscode": {
     "languageId": "sql"
    }
   },
   "outputs": [],
   "source": [
    "CREATE TABLE posts (\n",
    "    id INTEGER PRIMARY KEY,\n",
    "    user_id INTEGER REFERENCES users(id),-- foreign key constraint\n",
    "    title TEXT NOT NULL,\n",
    "    body TEXT NOT NULL,\n",
    "    created_at DATETIME DEFAULT CURRENT_TIMESTAMP\n",
    ");\n",
    "SELECT * FROM posts;"
   ]
  },
  {
   "cell_type": "markdown",
   "id": "0abe9b16",
   "metadata": {},
   "source": [
    "8. changing or working with foreign keys:"
   ]
  },
  {
   "cell_type": "markdown",
   "id": "0f4b4c56",
   "metadata": {},
   "source": [
    "i.adding ids:"
   ]
  },
  {
   "cell_type": "code",
   "execution_count": null,
   "id": "f70f2bd0",
   "metadata": {
    "vscode": {
     "languageId": "sql"
    }
   },
   "outputs": [],
   "source": [
    "INSERT INTO posts (user_id, title, body)\n",
    "VALUES (1, 'First Post', 'This is the body of the first post'),\n",
    "       (2, 'Second Post', 'This is the body of the second post');\n",
    "SELECT * FROM posts;"
   ]
  }
 ],
 "metadata": {
  "kernelspec": {
   "display_name": ".venv (3.13.7)",
   "language": "python",
   "name": "python3"
  },
  "language_info": {
   "codemirror_mode": {
    "name": "ipython",
    "version": 3
   },
   "file_extension": ".py",
   "mimetype": "text/x-python",
   "name": "python",
   "nbconvert_exporter": "python",
   "pygments_lexer": "ipython3",
   "version": "3.13.7"
  }
 },
 "nbformat": 4,
 "nbformat_minor": 5
}
