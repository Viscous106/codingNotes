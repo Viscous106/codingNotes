{
 "cells": [
  {
   "cell_type": "markdown",
   "id": "10d59ce0",
   "metadata": {},
   "source": [
    "1.How  to create a table:"
   ]
  },
  {
   "cell_type": "code",
   "execution_count": null,
   "id": "58f301d5",
   "metadata": {
    "vscode": {
     "languageId": "sql"
    }
   },
   "outputs": [],
   "source": [
    "CREATE TABLE users(\n",
    "    id INTEGER PRIMARY KEY,\n",
    "    name TEXT NOT NULL,\n",
    "    username TEXT NOT NULL UNIQUE,\n",
    "    email TEXT,\n",
    "    age INTEGER,\n",
    "    created_at DATETIME DEFAULT CURRENT_TIMESTAMP\n",
    ");"
   ]
  },
  {
   "cell_type": "markdown",
   "id": "6fc5d619",
   "metadata": {},
   "source": [
    "2.HOW TO ADD COLOMN name \"status\"   "
   ]
  },
  {
   "cell_type": "code",
   "execution_count": null,
   "id": "edef29ec",
   "metadata": {
    "vscode": {
     "languageId": "sql"
    }
   },
   "outputs": [],
   "source": [
    "ALTER TABLE users ADD COLUMN status TEXT;"
   ]
  },
  {
   "cell_type": "markdown",
   "id": "82d7b0d2",
   "metadata": {},
   "source": [
    "3.DELETE TABLE users"
   ]
  },
  {
   "cell_type": "code",
   "execution_count": null,
   "id": "1274d7b0",
   "metadata": {
    "vscode": {
     "languageId": "sql"
    }
   },
   "outputs": [],
   "source": [
    "DROP TABLE users;"
   ]
  },
  {
   "cell_type": "markdown",
   "id": "9632688b",
   "metadata": {},
   "source": [
    "4.INSERT DATA INTO A TABLE"
   ]
  },
  {
   "cell_type": "code",
   "execution_count": null,
   "id": "64555ba5",
   "metadata": {
    "vscode": {
     "languageId": "sql"
    }
   },
   "outputs": [],
   "source": [
    "SELECT * FROM users;\n",
    "INSERT INTO users (name,username)\n",
    "VALUES ('Rajnish', 'bkl_rajnish'),('John Doe', 'jdoe');"
   ]
  },
  {
   "cell_type": "markdown",
   "id": "1b2bdad8",
   "metadata": {},
   "source": [
    "5. To select a Certaing id:"
   ]
  },
  {
   "cell_type": "code",
   "execution_count": null,
   "id": "45bb8544",
   "metadata": {
    "vscode": {
     "languageId": "sql"
    }
   },
   "outputs": [],
   "source": [
    "SELECT * FROM users\n",
    "WHERE username = 'bkl_rajnish'OR username ='jdoe';"
   ]
  },
  {
   "cell_type": "markdown",
   "id": "f2bb90db",
   "metadata": {},
   "source": [
    "6.Add id and add data:"
   ]
  },
  {
   "cell_type": "code",
   "execution_count": null,
   "id": "212b1ff2",
   "metadata": {
    "vscode": {
     "languageId": "sql"
    }
   },
   "outputs": [],
   "source": [
    "UPDATE users SET email = 'rajnish@sst.scaler.com' WHERE username = 'bkl_rajnish' AND email ='Johndoe@sst.scaler.com' AND username = 'jdoe';\n",
    "SELECT * FROM users"
   ]
  },
  {
   "cell_type": "markdown",
   "id": "70b394af",
   "metadata": {},
   "source": [
    "7.FOReign Keys"
   ]
  },
  {
   "cell_type": "code",
   "execution_count": null,
   "id": "2a3817ed",
   "metadata": {
    "vscode": {
     "languageId": "sql"
    }
   },
   "outputs": [],
   "source": [
    "CREATE TABLE posts (\n",
    "    id INTEGER PRIMARY KEY,\n",
    "    user_id INTEGER REFERENCES users(id),-- foreign key constraint\n",
    "    title TEXT NOT NULL,\n",
    "    body TEXT NOT NULL,\n",
    "    created_at DATETIME DEFAULT CURRENT_TIMESTAMP\n",
    ");\n",
    "SELECT * FROM posts;"
   ]
  },
  {
   "cell_type": "markdown",
   "id": "0abe9b16",
   "metadata": {},
   "source": [
    "8. changing or working with foreign keys:"
   ]
  },
  {
   "cell_type": "code",
   "execution_count": null,
   "id": "f70f2bd0",
   "metadata": {
    "vscode": {
     "languageId": "sql"
    }
   },
   "outputs": [],
   "source": [
    "INSERT INTO posts (user_id, title, body)\n",
    "VALUES (1, 'First Post', 'This is the body of the first post'),\n",
    "       (2, 'Second Post', 'This is the body of the second post');\n",
    "SELECT * FROM posts;"
   ]
  },
  {
   "cell_type": "markdown",
   "id": "8edcc819",
   "metadata": {},
   "source": [
    "9.BAckend + DB"
   ]
  },
  {
   "cell_type": "markdown",
   "id": "3b45e8cf",
   "metadata": {},
   "source": [
    "THIS IS THE BASE CODE:\n"
   ]
  },
  {
   "cell_type": "code",
   "execution_count": null,
   "id": "faf95db5",
   "metadata": {
    "vscode": {
     "languageId": "sql"
    }
   },
   "outputs": [],
   "source": [
    "import sqlite3\n",
    "\n",
    "connection =  sqlite3.connect(\"gta.db\")\n",
    "cursor = connection.cursor()\n",
    "\n",
    "\n",
    "connection.close()"
   ]
  },
  {
   "cell_type": "markdown",
   "id": "b22cac08",
   "metadata": {},
   "source": [
    "i.Make a DAtabase using python"
   ]
  },
  {
   "cell_type": "code",
   "execution_count": 69,
   "id": "3152f718",
   "metadata": {},
   "outputs": [],
   "source": [
    "import sqlite3\n",
    "\n",
    "connection = sqlite3.connect(\"gta.db\")\n",
    "cursor = connection.cursor()\n",
    "\n",
    "cursor.execute(\"CREATE TABLE IF NOT EXISTS gta (release_year INTEGER, name TEXT, city TEXT)\")\n",
    "\n",
    "release_list = [\n",
    "    (1997, \"GTA\", \"State of New Jersey\"),\n",
    "    (1998, \"GTA 2\", \"State of New Jersey\"),\n",
    "    (2001, \"GTA III\", \"Liberty City\"),\n",
    "    (2002, \"GTA Vice City\", \"Vice City\"),\n",
    "    (2004, \"GTA San Andreas\", \"San Andreas\"),\n",
    "    (2008, \"GTA IV\", \"Liberty City\"),\n",
    "    (2013, \"GTA V\", \"San Andreas\"),\n",
    "]\n",
    "\n",
    "# Insert before selecting\n",
    "cursor.executemany(\"INSERT INTO gta VALUES (?, ?, ?)\", release_list)\n",
    "\n",
    "# Commit the changes\n",
    "connection.commit()\n",
    "connection.close()\n"
   ]
  },
  {
   "cell_type": "markdown",
   "id": "ac80bed6",
   "metadata": {},
   "source": [
    "ii.How to read data:"
   ]
  },
  {
   "cell_type": "code",
   "execution_count": 70,
   "id": "237846bf",
   "metadata": {},
   "outputs": [
    {
     "name": "stdout",
     "output_type": "stream",
     "text": [
      "(1997, 'GTA', 'State of New Jersey')\n",
      "(1998, 'GTA 2', 'State of New Jersey')\n",
      "(2001, 'GTA III', 'Liberty City')\n",
      "(2002, 'GTA Vice City', 'Vice City')\n",
      "(2004, 'GTA San Andreas', 'San Andreas')\n",
      "(2008, 'GTA IV', 'Liberty City')\n",
      "(2013, 'GTA V', 'San Andreas')\n"
     ]
    }
   ],
   "source": [
    "import sqlite3\n",
    "\n",
    "connection =  sqlite3.connect(\"gta.db\")\n",
    "cursor = connection.cursor()\n",
    "\n",
    "for row in cursor.execute(\"select * from gta\"):\n",
    "    print(row)\n",
    "\n",
    "connection.close()"
   ]
  },
  {
   "cell_type": "markdown",
   "id": "07d23678",
   "metadata": {},
   "source": [
    "iii.print a particular:"
   ]
  },
  {
   "cell_type": "code",
   "execution_count": null,
   "id": "cdbece19",
   "metadata": {},
   "outputs": [
    {
     "name": "stdout",
     "output_type": "stream",
     "text": [
      "[(2001, 'GTA III', 'Liberty City'), (2008, 'GTA IV', 'Liberty City')]\n"
     ]
    }
   ],
   "source": [
    "import sqlite3\n",
    "\n",
    "connection =  sqlite3.connect(\"gta.db\")\n",
    "cursor = connection.cursor()\n",
    "\n",
    "# A specific:\n",
    "cursor.execute(\"select * from gta where city='Liberty City'\")\n",
    "gta_search = cursor.fetchall()\n",
    "print(gta_search)\n",
    "\n",
    "connection.close()"
   ]
  },
  {
   "cell_type": "markdown",
   "id": "d80f23ec",
   "metadata": {},
   "source": [
    "iv.Dealing with multiple tables:"
   ]
  },
  {
   "cell_type": "code",
   "execution_count": 71,
   "id": "be7810fb",
   "metadata": {},
   "outputs": [],
   "source": [
    "import sqlite3\n",
    "#Adding a new table\n",
    "\n",
    "connection = sqlite3.connect(\"gta.db\")\n",
    "cursor = connection.cursor()\n",
    "\n",
    "cursor.execute(\"CREATE TABLE IF NOT EXISTS cities (gta_city TEXT,real_city TEXT)\")\n",
    "city_list = [\n",
    "    (\"State of New Jersey\",\"\"),\n",
    "    (\"State of New Jersey\",\"\"),\n",
    "    (\"Liberty City\",\"\"),\n",
    "    (\"Vice City\",\"\"),\n",
    "    (\"San Andreas\",\"\"),\n",
    "    (\"Liberty City\",\"New York\"),\n",
    "    (\"San Andreas\",\"\"),\n",
    "]\n",
    "\n",
    "# Insert before selecting\n",
    "cursor.executemany(\"INSERT INTO cities VALUES (?, ?)\", city_list)\n",
    "\n",
    "# Commit the changes\n",
    "connection.commit()\n",
    "connection.close()\n"
   ]
  },
  {
   "cell_type": "markdown",
   "id": "799b139b",
   "metadata": {},
   "source": [
    "v.Printing new table:"
   ]
  },
  {
   "cell_type": "code",
   "execution_count": 72,
   "id": "65523b3f",
   "metadata": {},
   "outputs": [
    {
     "name": "stdout",
     "output_type": "stream",
     "text": [
      "('State of New Jersey', '')\n",
      "('State of New Jersey', '')\n",
      "('Liberty City', '')\n",
      "('Vice City', '')\n",
      "('San Andreas', '')\n",
      "('Liberty City', 'New York')\n",
      "('San Andreas', '')\n"
     ]
    }
   ],
   "source": [
    "import sqlite3\n",
    "\n",
    "connection =  sqlite3.connect(\"gta.db\")\n",
    "cursor = connection.cursor()\n",
    "\n",
    "#new table \n",
    "for i in cursor.execute(\"select * from cities\"):\n",
    "    print(i)\n",
    "city_search = cursor.fetchall()\n",
    "connection.close()"
   ]
  },
  {
   "cell_type": "markdown",
   "id": "51c947c4",
   "metadata": {},
   "source": [
    "vi.Manipulate database data"
   ]
  },
  {
   "cell_type": "code",
   "execution_count": null,
   "id": "825b2bb1",
   "metadata": {},
   "outputs": [],
   "source": [
    "###Changing data using id\n",
    "###This code is not working you have  todeclare above this then you can use it\n",
    "import sqlite3\n",
    "\n",
    "connection =  sqlite3.connect(\"gta.db\")\n",
    "cursor = connection.cursor()\n",
    "\n",
    "city_search = cursor.fetchall()\n",
    "\n",
    "for i in gta_search:\n",
    "    adjusted = [city_search[5][1] if value==city_search[5][] else value for value in i]     \n",
    "    print(adjusted)\n",
    "connection.close()"
   ]
  }
 ],
 "metadata": {
  "kernelspec": {
   "display_name": ".venv (3.13.7)",
   "language": "python",
   "name": "python3"
  },
  "language_info": {
   "codemirror_mode": {
    "name": "ipython",
    "version": 3
   },
   "file_extension": ".py",
   "mimetype": "text/x-python",
   "name": "python",
   "nbconvert_exporter": "python",
   "pygments_lexer": "ipython3",
   "version": "3.13.7"
  }
 },
 "nbformat": 4,
 "nbformat_minor": 5
}
