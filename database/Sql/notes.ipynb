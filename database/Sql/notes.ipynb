{
 "cells": [
  {
   "cell_type": "markdown",
   "id": "10d59ce0",
   "metadata": {},
   "source": [
    "1.How  to create a table:"
   ]
  },
  {
   "cell_type": "code",
   "execution_count": null,
   "id": "58f301d5",
   "metadata": {
    "vscode": {
     "languageId": "sql"
    }
   },
   "outputs": [],
   "source": [
    "CREATE TABLE users(\n",
    "    id INTEGER PRIMARY KEY,\n",
    "    name TEXT NOT NULL,\n",
    "    username TEXT NOT NULL UNIQUE,\n",
    "    email TEXT,\n",
    "    age INTEGER,\n",
    "    created_at DATETIME DEFAULT CURRENT_TIMESTAMP\n",
    ");"
   ]
  },
  {
   "cell_type": "markdown",
   "id": "6fc5d619",
   "metadata": {},
   "source": [
    "2.HOW TO ADD COLOMN name \"status\"   "
   ]
  },
  {
   "cell_type": "code",
   "execution_count": null,
   "id": "edef29ec",
   "metadata": {
    "vscode": {
     "languageId": "sql"
    }
   },
   "outputs": [],
   "source": [
    "ALTER TABLE users ADD COLUMN status TEXT;"
   ]
  },
  {
   "cell_type": "markdown",
   "id": "82d7b0d2",
   "metadata": {},
   "source": [
    "3.DELETE TABLE users"
   ]
  },
  {
   "cell_type": "code",
   "execution_count": null,
   "id": "1274d7b0",
   "metadata": {
    "vscode": {
     "languageId": "sql"
    }
   },
   "outputs": [],
   "source": [
    "DROP TABLE users;"
   ]
  },
  {
   "cell_type": "markdown",
   "id": "9632688b",
   "metadata": {},
   "source": [
    "4.INSERT DATA INTO A TABLE"
   ]
  },
  {
   "cell_type": "code",
   "execution_count": null,
   "id": "64555ba5",
   "metadata": {
    "vscode": {
     "languageId": "sql"
    }
   },
   "outputs": [],
   "source": [
    "INSERT INTO users ()"
   ]
  }
 ],
 "metadata": {
  "kernelspec": {
   "display_name": "3.10.12",
   "language": "python",
   "name": "python3"
  },
  "language_info": {
   "codemirror_mode": {
    "name": "ipython",
    "version": 3
   },
   "file_extension": ".py",
   "mimetype": "text/x-python",
   "name": "python",
   "nbconvert_exporter": "python",
   "pygments_lexer": "ipython3",
   "version": "3.10.12"
  }
 },
 "nbformat": 4,
 "nbformat_minor": 5
}
