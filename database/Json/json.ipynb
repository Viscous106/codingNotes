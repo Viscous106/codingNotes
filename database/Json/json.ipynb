{
 "cells": [
  {
   "cell_type": "markdown",
   "id": "9fa40cc1",
   "metadata": {},
   "source": [
    "Javascript object notation\n"
   ]
  },
  {
   "cell_type": "code",
   "execution_count": null,
   "id": "8294f946",
   "metadata": {
    "vscode": {
     "languageId": "javascript"
    }
   },
   "outputs": [],
   "source": []
  }
 ],
 "metadata": {
  "language_info": {
   "name": "python"
  }
 },
 "nbformat": 4,
 "nbformat_minor": 5
}
