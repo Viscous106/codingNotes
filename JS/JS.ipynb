{
 "cells": [
  {
   "cell_type": "markdown",
   "id": "44a897cb",
   "metadata": {},
   "source": [
    "1.Types of outputs in JS:"
   ]
  },
  {
   "cell_type": "code",
   "execution_count": null,
   "id": "00ef1ba3",
   "metadata": {
    "vscode": {
     "languageId": "javascript"
    }
   },
   "outputs": [],
   "source": [
    "console.log('Backend works here')// This is a print statement that prints on the console.\n",
    "alert('Welcome to the site!!') // This is an alert or basically this popup that appears on screen.\n"
   ]
  }
 ],
 "metadata": {
  "kernelspec": {
   "display_name": "3.10.12",
   "language": "python",
   "name": "python3"
  },
  "language_info": {
   "codemirror_mode": {
    "name": "ipython",
    "version": 3
   },
   "file_extension": ".py",
   "mimetype": "text/x-python",
   "name": "python",
   "nbconvert_exporter": "python",
   "pygments_lexer": "ipython3",
   "version": "3.10.12"
  }
 },
 "nbformat": 4,
 "nbformat_minor": 5
}
