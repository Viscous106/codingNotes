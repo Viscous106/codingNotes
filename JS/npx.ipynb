{
 "cells": [
  {
   "cell_type": "markdown",
   "id": "53098465",
   "metadata": {},
   "source": [
    "# Run a package without installing\n",
    "npx http-server .                # Start a local web server\n",
    "npx prettier --write .           # Format code or docs\n",
    "npx eslint .                     # Lint JavaScript\n",
    "npx ts-node script.ts            # Run TypeScript directly\n",
    "npx esbuild app.js               # Bundle JavaScript\n",
    "npx jsdoc .                      # Generate JavaScript docs\n",
    "\n",
    "# Run specific versions\n",
    "npx prettier@3.6 --write .        # Use prettier 3.6\n",
    "\n",
    "# Execute remote scripts (use with caution!)\n",
    "npx github:user/repo            # Run from GitHub\n"
   ]
  },
  {
   "cell_type": "markdown",
   "id": "6f8ab97e",
   "metadata": {},
   "source": [
    "https://youtu.be/55WaAoZV_tQ\n"
   ]
  },
  {
   "cell_type": "markdown",
   "id": "0fd09552",
   "metadata": {},
   "source": []
  }
 ],
 "metadata": {
  "language_info": {
   "name": "python"
  }
 },
 "nbformat": 4,
 "nbformat_minor": 5
}
