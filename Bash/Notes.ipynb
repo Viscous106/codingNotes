{
 "cells": [
  {
   "cell_type": "markdown",
   "metadata": {},
   "source": [
    "1. Boiler plate:"
   ]
  },
  {
   "cell_type": "code",
   "execution_count": 23,
   "metadata": {
    "vscode": {
     "languageId": "shellscript"
    }
   },
   "outputs": [],
   "source": [
    "%%bash\n",
    "#This is to connect with bash shell in your system."
   ]
  },
  {
   "cell_type": "markdown",
   "metadata": {},
   "source": [
    "2.use this to run the file from terminal:"
   ]
  },
  {
   "cell_type": "code",
   "execution_count": 24,
   "metadata": {
    "vscode": {
     "languageId": "shellscript"
    }
   },
   "outputs": [],
   "source": [
    "%%bash\n",
    "# ./filePath"
   ]
  },
  {
   "cell_type": "markdown",
   "metadata": {},
   "source": [
    "3.Comments:"
   ]
  },
  {
   "cell_type": "code",
   "execution_count": 25,
   "metadata": {
    "vscode": {
     "languageId": "shellscript"
    }
   },
   "outputs": [],
   "source": [
    "%%bash\n",
    "# Single line comment\n",
    ":<<\"anything\"\n",
    "    Multi line comment\n",
    "anything"
   ]
  },
  {
   "cell_type": "markdown",
   "metadata": {},
   "source": [
    "4.Print Statement:"
   ]
  },
  {
   "cell_type": "code",
   "execution_count": 26,
   "metadata": {
    "vscode": {
     "languageId": "shellscript"
    }
   },
   "outputs": [
    {
     "name": "stdout",
     "output_type": "stream",
     "text": [
      "hello world!!\n"
     ]
    }
   ],
   "source": [
    "%%bash\n",
    "echo \"hello world!!\""
   ]
  },
  {
   "cell_type": "markdown",
   "metadata": {},
   "source": [
    "5.Types of Datatypes:"
   ]
  },
  {
   "cell_type": "code",
   "execution_count": 27,
   "metadata": {
    "vscode": {
     "languageId": "shellscript"
    }
   },
   "outputs": [
    {
     "name": "stdout",
     "output_type": "stream",
     "text": [
      "KO!!\n",
      "15\n",
      "red\n",
      "apple,banana\n",
      "15\n",
      "red\n",
      "apple,banana\n"
     ]
    }
   ],
   "source": [
    "%%bash\n",
    "#String:\n",
    "    str=\"KO!!\"\n",
    "    echo $str\n",
    "#NUMbers:\n",
    "    num=15\n",
    "    echo $num\n",
    "#Arrays:\n",
    "    fruit=(\"apple\",\"banana\")\n",
    "    declare -A colors\n",
    "    colors[apple]=\"red\"\n",
    "    colors[banana]=\"yellow\"\n",
    "    echo ${colors[apple]}\n",
    "    echo ${fruit[0]}\n",
    "\n"
   ]
  },
  {
   "cell_type": "markdown",
   "metadata": {},
   "source": [
    "6. Operations:"
   ]
  },
  {
   "cell_type": "code",
   "execution_count": 28,
   "metadata": {
    "vscode": {
     "languageId": "shellscript"
    }
   },
   "outputs": [
    {
     "name": "stdout",
     "output_type": "stream",
     "text": [
      "Hi Hello\n",
      "Sum: 15, Difference: 5, Product: 50, Quotient: 2\n",
      "Sum: 15, Difference: 5, Product: 50, Quotient: 2\n"
     ]
    }
   ],
   "source": [
    "%%bash\n",
    "\n",
    "#Concatenation:\n",
    "    str1=\"Hi \"\n",
    "    str2=\"Hello\"\n",
    "    echo \"$str1$str2\"\n",
    "    \n",
    "    \n",
    "#Num Operations:\n",
    "    num1=5\n",
    "    num2=10\n",
    "    sum=$((num1 + num2))\n",
    "    difference=$((num2 - num1))\n",
    "    product=$((num1 * num2))\n",
    "    quotient=$((num2 / num1))\n",
    "    echo \"Sum: $sum, Difference: $difference, Product: $product, Quotient: $quotient\"   \n",
    "    "
   ]
  },
  {
   "cell_type": "markdown",
   "metadata": {},
   "source": [
    "7.If else conditionals:"
   ]
  },
  {
   "cell_type": "code",
   "execution_count": 29,
   "metadata": {
    "vscode": {
     "languageId": "shellscript"
    }
   },
   "outputs": [
    {
     "name": "stdout",
     "output_type": "stream",
     "text": [
      "a is 9\n",
      "Number is between 1 and 9\n",
      "Number is between 1 and 9\n"
     ]
    }
   ],
   "source": [
    "%%bash\n",
    "a=9\n",
    "if [ $a -eq 9 ]; then # Check if a is equal to 10\n",
    "    echo \"a is 9\"  \n",
    "elif [ $a -ne 9 ]; then # Check if a is not equal to 10\n",
    "    echo \"a is not 9\"\n",
    "else\n",
    "    echo \"maths isnt mathing anymore\"\n",
    "fi\n",
    "\n",
    "# Nested if statement\n",
    "num=5\n",
    "if [ $num -gt 0 ]; then\n",
    "    if [ $num -lt 10 ]; then\n",
    "        echo \"Number is between 1 and 9\"\n",
    "    fi\n",
    "fi"
   ]
  },
  {
   "cell_type": "markdown",
   "metadata": {},
   "source": [
    "8. Intro to Loops:"
   ]
  },
  {
   "cell_type": "code",
   "execution_count": 30,
   "metadata": {
    "vscode": {
     "languageId": "shellscript"
    }
   },
   "outputs": [
    {
     "name": "stdout",
     "output_type": "stream",
     "text": [
      "1\n",
      "2\n",
      "3\n",
      "4\n",
      "5\n",
      "6\n",
      "Count is 1\n",
      "Count is 2\n",
      "Count is 3\n",
      "Count is 4\n",
      "Number 1\n",
      "Number 2\n",
      "Number 4\n",
      "Outer loop 1, Inner loop 1\n",
      "Outer loop 1, Inner loop 2\n",
      "Outer loop 2, Inner loop 1\n",
      "Outer loop 2, Inner loop 2\n",
      "Outer loop 3, Inner loop 1\n",
      "Outer loop 3, Inner loop 2\n",
      "Count is 1\n",
      "Count is 2\n",
      "Count is 3\n",
      "Count is 4\n",
      "Number 1\n",
      "Number 2\n",
      "Number 4\n",
      "Outer loop 1, Inner loop 1\n",
      "Outer loop 1, Inner loop 2\n",
      "Outer loop 2, Inner loop 1\n",
      "Outer loop 2, Inner loop 2\n",
      "Outer loop 3, Inner loop 1\n",
      "Outer loop 3, Inner loop 2\n"
     ]
    }
   ],
   "source": [
    "%%bash\n",
    "#For Loop:\n",
    "for i in {1..6}; do\n",
    "    echo \"$i\"\n",
    "done\n",
    "#While loop:\n",
    "count=1\n",
    "while [ $count -ne 5 ]; do\n",
    "    echo \"Count is $count\"\n",
    "    ((count++))\n",
    "done\n",
    "# Break and continue example\n",
    "for i in {1..5}; do\n",
    "    if [ $i -eq 3 ]; then\n",
    "        continue\n",
    "    fi\n",
    "    echo \"Number $i\"\n",
    "    if [ $i -eq 4 ]; then\n",
    "        break\n",
    "    fi\n",
    "done\n",
    "# Nested loops example\n",
    "for i in {1..3}; do\n",
    "    for j in {1..2}; do\n",
    "        echo \"Outer loop $i, Inner loop $j\"\n",
    "    done\n",
    "done"
   ]
  },
  {
   "cell_type": "markdown",
   "metadata": {},
   "source": [
    "9. Intro to functions:"
   ]
  },
  {
   "cell_type": "code",
   "execution_count": 31,
   "metadata": {
    "vscode": {
     "languageId": "shellscript"
    }
   },
   "outputs": [
    {
     "name": "stdout",
     "output_type": "stream",
     "text": [
      "local\n",
      "Hello, Alice!\n",
      "The sum is 8\n",
      "Hello, Alice!\n",
      "The sum is 8\n"
     ]
    }
   ],
   "source": [
    "%%bash\n",
    "fxn(){\n",
    "    var=\"local\"\n",
    "    echo $var\n",
    "}\n",
    "fxn #Calling Fxn \n",
    "\n",
    "greet() {\n",
    "    name=$1\n",
    "    echo \"Hello, $name!\"\n",
    "}\n",
    "greet \"Alice\"\n",
    "\n",
    "add() {\n",
    "    sum=$(($1 + $2))\n",
    "    echo $sum\n",
    "}\n",
    "result=$(add 5 3)\n",
    "echo \"The sum is $result\""
   ]
  }
 ],
 "metadata": {
  "kernelspec": {
   "display_name": "3.10.12",
   "language": "python",
   "name": "python3"
  },
  "language_info": {
   "codemirror_mode": {
    "name": "ipython",
    "version": 3
   },
   "file_extension": ".py",
   "mimetype": "text/x-python",
   "name": "python",
   "nbconvert_exporter": "python",
   "pygments_lexer": "ipython3",
   "version": "3.10.12"
  }
 },
 "nbformat": 4,
 "nbformat_minor": 4
}
