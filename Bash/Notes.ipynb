{
 "cells": [
  {
   "cell_type": "markdown",
   "metadata": {},
   "source": [
    "1. Boiler plate:"
   ]
  },
  {
   "cell_type": "code",
   "execution_count": null,
   "metadata": {
    "vscode": {
     "languageId": "shellscript"
    }
   },
   "outputs": [],
   "source": [
    "#! /usr/bin/bash\n",
    "OR \n",
    "%%bash"
   ]
  },
  {
   "cell_type": "markdown",
   "metadata": {},
   "source": [
    "2.use this to run the file from terminal:"
   ]
  },
  {
   "cell_type": "code",
   "execution_count": null,
   "metadata": {
    "vscode": {
     "languageId": "shellscript"
    }
   },
   "outputs": [],
   "source": [
    "# ./filePath"
   ]
  },
  {
   "cell_type": "markdown",
   "metadata": {},
   "source": [
    "3.Comments:"
   ]
  },
  {
   "cell_type": "code",
   "execution_count": null,
   "metadata": {
    "vscode": {
     "languageId": "shellscript"
    }
   },
   "outputs": [],
   "source": [
    "# Single line comment\n",
    ":'\n",
    "    Multi line comment\n",
    "'"
   ]
  },
  {
   "cell_type": "markdown",
   "metadata": {},
   "source": [
    "4.Print Statement:"
   ]
  },
  {
   "cell_type": "code",
   "execution_count": null,
   "metadata": {
    "vscode": {
     "languageId": "shellscript"
    }
   },
   "outputs": [],
   "source": [
    "%%bash\n",
    "echo \"hello world!!\""
   ]
  },
  {
   "cell_type": "markdown",
   "metadata": {},
   "source": [
    "5.Types of Datatypes:"
   ]
  },
  {
   "cell_type": "code",
   "execution_count": null,
   "metadata": {
    "vscode": {
     "languageId": "shellscript"
    }
   },
   "outputs": [],
   "source": [
    "%%bash\n",
    "#String:\n",
    "    str=\"KO!!\"\n",
    "    echo $str\n",
    "#NUMbers:\n",
    "    num=15\n",
    "    echo $num\n",
    "#Arrays:\n",
    "    fruit=(\"apple\",\"banana\")\n",
    "    declare -A colors\n",
    "    colors[apple]=\"red\"\n",
    "    colors[banana]=\"yellow\"\n",
    "    echo ${colors[apple]}\n",
    "    echo ${fruit[0]}\n",
    "\n"
   ]
  },
  {
   "cell_type": "markdown",
   "metadata": {},
   "source": [
    "6. Operations:"
   ]
  },
  {
   "cell_type": "code",
   "execution_count": null,
   "metadata": {
    "vscode": {
     "languageId": "shellscript"
    }
   },
   "outputs": [],
   "source": [
    "###Operations\n",
    "#Concatenation:\n",
    "    str1=\"Hi \"\n",
    "    str2=\"Hello\"\n",
    "    echo \"$str1$str2\"\n",
    "    \n",
    "    \n",
    "#Num Operations:\n",
    "    num1=5\n",
    "    num2=10\n",
    "    sum=$((num1 + num2))\n",
    "    difference=$((num2 - num1))\n",
    "    product=$((num1 * num2))\n",
    "    quotient=$((num2 / num1))\n",
    "    echo \"Sum: $sum, Difference: $difference, Product: $product, Quotient: $quotient\"   \n",
    "    "
   ]
  }
 ],
 "metadata": {
  "kernelspec": {
   "display_name": "3.10.12",
   "language": "python",
   "name": "python3"
  },
  "language_info": {
   "codemirror_mode": {
    "name": "ipython",
    "version": 3
   },
   "file_extension": ".py",
   "mimetype": "text/x-python",
   "name": "python",
   "nbconvert_exporter": "python",
   "pygments_lexer": "ipython3",
   "version": "3.10.12"
  }
 },
 "nbformat": 4,
 "nbformat_minor": 4
}
