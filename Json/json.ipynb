{
 "cells": [
  {
   "cell_type": "markdown",
   "id": "9fa40cc1",
   "metadata": {},
   "source": [
    "Javascript object notation\n"
   ]
  }
 ],
 "metadata": {
  "language_info": {
   "name": "python"
  }
 },
 "nbformat": 4,
 "nbformat_minor": 5
}
