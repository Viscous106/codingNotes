{
 "cells": [
  {
   "cell_type": "markdown",
   "id": "9fa40cc1",
   "metadata": {},
   "source": [
    "Javascript object notation\n"
   ]
  },
  {
   "cell_type": "markdown",
   "id": "4ffd6ba4",
   "metadata": {},
   "source": []
  }
 ],
 "metadata": {
  "language_info": {
   "name": "python"
  }
 },
 "nbformat": 4,
 "nbformat_minor": 5
}
